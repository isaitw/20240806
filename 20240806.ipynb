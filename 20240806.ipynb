{
  "nbformat": 4,
  "nbformat_minor": 0,
  "metadata": {
    "colab": {
      "provenance": [],
      "authorship_tag": "ABX9TyN8ONKdhPecouU/wgOWAl+Q",
      "include_colab_link": true
    },
    "kernelspec": {
      "name": "python3",
      "display_name": "Python 3"
    },
    "language_info": {
      "name": "python"
    }
  },
  "cells": [
    {
      "cell_type": "markdown",
      "metadata": {
        "id": "view-in-github",
        "colab_type": "text"
      },
      "source": [
        "<a href=\"https://colab.research.google.com/github/isaitw/20240806/blob/main/20240806.ipynb\" target=\"_parent\"><img src=\"https://colab.research.google.com/assets/colab-badge.svg\" alt=\"Open In Colab\"/></a>"
      ]
    },
    {
      "cell_type": "code",
      "execution_count": null,
      "metadata": {
        "id": "MrnM0vLixFH4"
      },
      "outputs": [],
      "source": []
    },
    {
      "cell_type": "markdown",
      "source": [
        "# 20240806 上課筆記"
      ],
      "metadata": {
        "id": "fMzsIFlezvJS"
      }
    },
    {
      "cell_type": "markdown",
      "source": [
        "## python變數命名\n",
        "\n",
        "* 開頭字元必須為英文字母或底線\n",
        "* 底線開頭的變數是有特殊意義的，有佔記憶體空間，但隱藏看不到，一般不建議使用\n",
        "* 除了開頭字元之外,可以使用數字\n",
        "* 變數有大小寫之分\n",
        "\n",
        "\n"
      ],
      "metadata": {
        "id": "UUGE66Ef0ChA"
      }
    },
    {
      "cell_type": "code",
      "source": [
        "x = 1"
      ],
      "metadata": {
        "id": "DENYlhYy0TPM"
      },
      "execution_count": 1,
      "outputs": []
    },
    {
      "cell_type": "code",
      "source": [
        "_abc = 1"
      ],
      "metadata": {
        "id": "9TqOymAF2vwx"
      },
      "execution_count": 2,
      "outputs": []
    }
  ]
}